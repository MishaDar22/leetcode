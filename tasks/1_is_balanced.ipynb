{
 "cells": [
  {
   "cell_type": "code",
   "execution_count": 16,
   "metadata": {},
   "outputs": [],
   "source": [
    "# first solution\n",
    "def foo(string: str):\n",
    "    symbols = ('[', ']', '(', ')', '{', '}')\n",
    "    symbols_dict = {'[': ']', '(': ')', '{': '}'}\n",
    "\n",
    "    extracting_symbols = [s for s in string if s in symbols]\n",
    "    count_sym = len(extracting_symbols)\n",
    "\n",
    "    while count_sym > 0:\n",
    "        temp_count_sym = count_sym\n",
    "        for i in range(1, len(extracting_symbols)):\n",
    "            if symbols_dict.get(extracting_symbols[i-1], 0) == extracting_symbols[i]:\n",
    "                extracting_symbols.pop(i)\n",
    "                extracting_symbols.pop(i-1)\n",
    "                temp_count_sym = len(extracting_symbols)\n",
    "                break\n",
    "        if temp_count_sym == 0:\n",
    "            return True\n",
    "        elif count_sym - temp_count_sym > 0:\n",
    "            count_sym = temp_count_sym\n",
    "        else:\n",
    "            return False\n"
   ]
  },
  {
   "cell_type": "code",
   "execution_count": 19,
   "metadata": {},
   "outputs": [
    {
     "name": "stdout",
     "output_type": "stream",
     "text": [
      "True\n",
      "False\n",
      "True\n",
      "False\n",
      "True\n"
     ]
    }
   ],
   "source": [
    "\n",
    "print(foo(\"([{}])\"))  # True\n",
    "print(foo(\"([)]\"))    # False\n",
    "print(foo(\"{[()]}\"))  # True\n",
    "print(foo(\"{[(])}\"))  # False\n",
    "print(foo(\"()[]{}\"))  # True"
   ]
  },
  {
   "cell_type": "code",
   "execution_count": 15,
   "metadata": {},
   "outputs": [
    {
     "name": "stdout",
     "output_type": "stream",
     "text": [
      "True\n",
      "False\n",
      "True\n",
      "False\n",
      "True\n"
     ]
    }
   ],
   "source": [
    "# second solution (chatgpt helped)\n",
    "def is_balanced(string: str):\n",
    "    symbols_dict = {'(': ')',\n",
    "                    '[': ']',\n",
    "                    '{': '}'\n",
    "                    }\n",
    "    stack = []\n",
    "\n",
    "    for char in string:\n",
    "        if char in symbols_dict:\n",
    "            stack.append(char)\n",
    "        elif char in symbols_dict.values():\n",
    "            if not stack or char != symbols_dict[stack.pop()]:\n",
    "                return False\n",
    "    return not stack\n",
    "print(is_balanced(\"([{}])\"))  # True\n",
    "print(is_balanced(\"([)]\"))    # False\n",
    "print(is_balanced(\"{[()]}\"))  # True\n",
    "print(is_balanced(\"{[(])}\"))  # False\n",
    "print(is_balanced(\"()[]{}\"))  # True"
   ]
  }
 ],
 "metadata": {
  "kernelspec": {
   "display_name": ".venv",
   "language": "python",
   "name": "python3"
  },
  "language_info": {
   "codemirror_mode": {
    "name": "ipython",
    "version": 3
   },
   "file_extension": ".py",
   "mimetype": "text/x-python",
   "name": "python",
   "nbconvert_exporter": "python",
   "pygments_lexer": "ipython3",
   "version": "3.10.11"
  }
 },
 "nbformat": 4,
 "nbformat_minor": 2
}
